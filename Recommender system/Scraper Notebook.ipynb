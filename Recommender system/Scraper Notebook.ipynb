{
 "cells": [
  {
   "cell_type": "code",
   "execution_count": 1,
   "id": "0bcfdf08-8a90-49a3-9156-504682ed1cf1",
   "metadata": {},
   "outputs": [],
   "source": [
    "import requests\n",
    "from bs4 import BeautifulSoup\n",
    "import numpy as np\n",
    "import pandas as pd\n",
    "import re\n",
    "import time\n",
    "import random\n",
    "import csv\n",
    "from datetime import datetime, timedelta, date"
   ]
  },
  {
   "cell_type": "code",
   "execution_count": 2,
   "id": "6b364f06-4dff-48c1-926c-1b93d18712be",
   "metadata": {},
   "outputs": [],
   "source": [
    "listing = requests.get(\"https://gardenate.com/plants/\")\n",
    "content = listing.text\n",
    "soup = BeautifulSoup(content, 'html.parser')\n",
    "base_link = \"https://gardenate.com\""
   ]
  },
  {
   "cell_type": "code",
   "execution_count": 3,
   "id": "1875e0ee-537b-4430-8025-a8d9eb2461da",
   "metadata": {
    "tags": []
   },
   "outputs": [
    {
     "data": {
      "text/plain": [
       "'https://gardenate.com/plants/'"
      ]
     },
     "execution_count": 3,
     "metadata": {},
     "output_type": "execute_result"
    }
   ],
   "source": [
    "plants = soup.find(\"div\", attrs = {\"id\":\"all-plants\"})\n",
    "htmls = soup.find_all('a')\n",
    "links = []\n",
    "for link in htmls:\n",
    "    address = link.get('href')\n",
    "    if \"plant\" in address:\n",
    "        links.append(base_link + address)\n",
    "links.pop(0) # Remove the first link without a plant\n",
    "links.pop() # Remove the last link without a plant"
   ]
  },
  {
   "cell_type": "code",
   "execution_count": 6,
   "id": "aa8a4086-e595-46a1-ad36-2ac55642ea50",
   "metadata": {},
   "outputs": [],
   "source": [
    "plants = []\n",
    "for link in links:\n",
    "    plant_name = link.strip().split(\"/\")[-1]\n",
    "    plants.append(plant_name)"
   ]
  },
  {
   "cell_type": "code",
   "execution_count": 8,
   "id": "076cc36c-eac0-43d2-9e50-8a9811cb5579",
   "metadata": {},
   "outputs": [
    {
     "data": {
      "text/plain": [
       "95"
      ]
     },
     "execution_count": 8,
     "metadata": {},
     "output_type": "execute_result"
    }
   ],
   "source": [
    "len(plants)"
   ]
  },
  {
   "cell_type": "code",
   "execution_count": 7,
   "id": "1b7d2b69-e639-4954-b686-abe3dbdfc727",
   "metadata": {},
   "outputs": [
    {
     "data": {
      "text/plain": [
       "['Amaranth',\n",
       " 'Angelica',\n",
       " 'Artichokes%2B%28Globe%29',\n",
       " 'Asparagus',\n",
       " 'Asparagus%2BPea',\n",
       " 'Basil',\n",
       " 'Beans%2B-%2Bclimbing',\n",
       " 'Beans%2B-%2Bdwarf',\n",
       " 'Beetroot',\n",
       " 'Borage',\n",
       " 'Broad%2BBeans',\n",
       " 'Broccoli',\n",
       " 'Brussels%2Bsprouts',\n",
       " 'Burdock',\n",
       " 'Cabbage',\n",
       " 'Cape%2BGooseberry',\n",
       " 'Capsicum',\n",
       " 'Cardoon',\n",
       " 'Carrot',\n",
       " 'Cauliflower',\n",
       " 'Celeriac',\n",
       " 'Celery',\n",
       " 'Chicory',\n",
       " 'Chilli%2Bpeppers',\n",
       " 'Chinese%2Bcabbage',\n",
       " 'Chives',\n",
       " 'Choko~Chayote',\n",
       " 'Collards',\n",
       " 'Coriander',\n",
       " 'Corn%2BSalad',\n",
       " 'Cowpeas',\n",
       " 'Cucumber',\n",
       " 'Daikon',\n",
       " 'Dill',\n",
       " 'Eggplant',\n",
       " 'Endive',\n",
       " 'Fennel',\n",
       " 'Florence%2BFennel',\n",
       " 'French%2Btarragon',\n",
       " 'Garlic',\n",
       " 'Ginger',\n",
       " 'Horseradish',\n",
       " 'Jerusalem%2BArtichokes',\n",
       " 'Kale',\n",
       " 'Kohlrabi',\n",
       " 'Leeks',\n",
       " 'Lemon%2BBalm',\n",
       " 'Lettuce',\n",
       " 'Luffa',\n",
       " 'Marrow',\n",
       " 'Mint',\n",
       " 'Mizuna',\n",
       " 'Mustard%2Bgreens',\n",
       " 'NZ%2BSpinach',\n",
       " 'Okra',\n",
       " 'Onion',\n",
       " 'Oregano',\n",
       " 'Pak%2BChoy',\n",
       " 'Parsley',\n",
       " 'Parsnip',\n",
       " 'Peas',\n",
       " 'Potato',\n",
       " 'Pumpkin',\n",
       " 'Radish',\n",
       " 'Rhubarb',\n",
       " 'Rocket',\n",
       " 'Rockmelon',\n",
       " 'Rosella',\n",
       " 'Rosemary',\n",
       " 'Rutabaga',\n",
       " 'Sage',\n",
       " 'Salsify',\n",
       " 'Savory%2B-%2Bsummer%2Bsavory',\n",
       " 'Savory%2B-%2Bwinter%2Bsavory',\n",
       " 'Shallots',\n",
       " 'Silverbeet',\n",
       " 'Snow%2BPeas',\n",
       " 'Spinach',\n",
       " 'Spring%2Bonions',\n",
       " 'Squash',\n",
       " 'Strawberries%2B%28from%2Bseeds%29',\n",
       " 'Strawberry%2BPlants',\n",
       " 'Sunflower',\n",
       " 'Sweet%2Bcorn',\n",
       " 'Sweet%2BMarjoram',\n",
       " 'Sweet%2BPotato',\n",
       " 'Taro',\n",
       " 'Thyme',\n",
       " 'Tomatillo',\n",
       " 'Tomato',\n",
       " 'Turnip',\n",
       " 'Watermelon',\n",
       " 'Yacon',\n",
       " 'Yam~Oca',\n",
       " 'Zucchini']"
      ]
     },
     "execution_count": 7,
     "metadata": {},
     "output_type": "execute_result"
    }
   ],
   "source": [
    "plants"
   ]
  },
  {
   "cell_type": "code",
   "execution_count": 4,
   "id": "44568137-dac5-4563-88e6-b82b1e02c298",
   "metadata": {},
   "outputs": [
    {
     "data": {
      "text/plain": [
       "['https://gardenate.com/plant/Amaranth',\n",
       " 'https://gardenate.com/plant/Angelica',\n",
       " 'https://gardenate.com/plant/Artichokes%2B%28Globe%29',\n",
       " 'https://gardenate.com/plant/Asparagus',\n",
       " 'https://gardenate.com/plant/Asparagus%2BPea',\n",
       " 'https://gardenate.com/plant/Basil',\n",
       " 'https://gardenate.com/plant/Beans%2B-%2Bclimbing',\n",
       " 'https://gardenate.com/plant/Beans%2B-%2Bdwarf',\n",
       " 'https://gardenate.com/plant/Beetroot',\n",
       " 'https://gardenate.com/plant/Borage',\n",
       " 'https://gardenate.com/plant/Broad%2BBeans',\n",
       " 'https://gardenate.com/plant/Broccoli',\n",
       " 'https://gardenate.com/plant/Brussels%2Bsprouts',\n",
       " 'https://gardenate.com/plant/Burdock',\n",
       " 'https://gardenate.com/plant/Cabbage',\n",
       " 'https://gardenate.com/plant/Cape%2BGooseberry',\n",
       " 'https://gardenate.com/plant/Capsicum',\n",
       " 'https://gardenate.com/plant/Cardoon',\n",
       " 'https://gardenate.com/plant/Carrot',\n",
       " 'https://gardenate.com/plant/Cauliflower',\n",
       " 'https://gardenate.com/plant/Celeriac',\n",
       " 'https://gardenate.com/plant/Celery',\n",
       " 'https://gardenate.com/plant/Chicory',\n",
       " 'https://gardenate.com/plant/Chilli%2Bpeppers',\n",
       " 'https://gardenate.com/plant/Chinese%2Bcabbage',\n",
       " 'https://gardenate.com/plant/Chives',\n",
       " 'https://gardenate.com/plant/Choko~Chayote',\n",
       " 'https://gardenate.com/plant/Collards',\n",
       " 'https://gardenate.com/plant/Coriander',\n",
       " 'https://gardenate.com/plant/Corn%2BSalad',\n",
       " 'https://gardenate.com/plant/Cowpeas',\n",
       " 'https://gardenate.com/plant/Cucumber',\n",
       " 'https://gardenate.com/plant/Daikon',\n",
       " 'https://gardenate.com/plant/Dill',\n",
       " 'https://gardenate.com/plant/Eggplant',\n",
       " 'https://gardenate.com/plant/Endive',\n",
       " 'https://gardenate.com/plant/Fennel',\n",
       " 'https://gardenate.com/plant/Florence%2BFennel',\n",
       " 'https://gardenate.com/plant/French%2Btarragon',\n",
       " 'https://gardenate.com/plant/Garlic',\n",
       " 'https://gardenate.com/plant/Ginger',\n",
       " 'https://gardenate.com/plant/Horseradish',\n",
       " 'https://gardenate.com/plant/Jerusalem%2BArtichokes',\n",
       " 'https://gardenate.com/plant/Kale',\n",
       " 'https://gardenate.com/plant/Kohlrabi',\n",
       " 'https://gardenate.com/plant/Leeks',\n",
       " 'https://gardenate.com/plant/Lemon%2BBalm',\n",
       " 'https://gardenate.com/plant/Lettuce',\n",
       " 'https://gardenate.com/plant/Luffa',\n",
       " 'https://gardenate.com/plant/Marrow',\n",
       " 'https://gardenate.com/plant/Mint',\n",
       " 'https://gardenate.com/plant/Mizuna',\n",
       " 'https://gardenate.com/plant/Mustard%2Bgreens',\n",
       " 'https://gardenate.com/plant/NZ%2BSpinach',\n",
       " 'https://gardenate.com/plant/Okra',\n",
       " 'https://gardenate.com/plant/Onion',\n",
       " 'https://gardenate.com/plant/Oregano',\n",
       " 'https://gardenate.com/plant/Pak%2BChoy',\n",
       " 'https://gardenate.com/plant/Parsley',\n",
       " 'https://gardenate.com/plant/Parsnip',\n",
       " 'https://gardenate.com/plant/Peas',\n",
       " 'https://gardenate.com/plant/Potato',\n",
       " 'https://gardenate.com/plant/Pumpkin',\n",
       " 'https://gardenate.com/plant/Radish',\n",
       " 'https://gardenate.com/plant/Rhubarb',\n",
       " 'https://gardenate.com/plant/Rocket',\n",
       " 'https://gardenate.com/plant/Rockmelon',\n",
       " 'https://gardenate.com/plant/Rosella',\n",
       " 'https://gardenate.com/plant/Rosemary',\n",
       " 'https://gardenate.com/plant/Rutabaga',\n",
       " 'https://gardenate.com/plant/Sage',\n",
       " 'https://gardenate.com/plant/Salsify',\n",
       " 'https://gardenate.com/plant/Savory%2B-%2Bsummer%2Bsavory',\n",
       " 'https://gardenate.com/plant/Savory%2B-%2Bwinter%2Bsavory',\n",
       " 'https://gardenate.com/plant/Shallots',\n",
       " 'https://gardenate.com/plant/Silverbeet',\n",
       " 'https://gardenate.com/plant/Snow%2BPeas',\n",
       " 'https://gardenate.com/plant/Spinach',\n",
       " 'https://gardenate.com/plant/Spring%2Bonions',\n",
       " 'https://gardenate.com/plant/Squash',\n",
       " 'https://gardenate.com/plant/Strawberries%2B%28from%2Bseeds%29',\n",
       " 'https://gardenate.com/plant/Strawberry%2BPlants',\n",
       " 'https://gardenate.com/plant/Sunflower',\n",
       " 'https://gardenate.com/plant/Sweet%2Bcorn',\n",
       " 'https://gardenate.com/plant/Sweet%2BMarjoram',\n",
       " 'https://gardenate.com/plant/Sweet%2BPotato',\n",
       " 'https://gardenate.com/plant/Taro',\n",
       " 'https://gardenate.com/plant/Thyme',\n",
       " 'https://gardenate.com/plant/Tomatillo',\n",
       " 'https://gardenate.com/plant/Tomato',\n",
       " 'https://gardenate.com/plant/Turnip',\n",
       " 'https://gardenate.com/plant/Watermelon',\n",
       " 'https://gardenate.com/plant/Yacon',\n",
       " 'https://gardenate.com/plant/Yam~Oca',\n",
       " 'https://gardenate.com/plant/Zucchini']"
      ]
     },
     "execution_count": 4,
     "metadata": {},
     "output_type": "execute_result"
    }
   ],
   "source": [
    "links"
   ]
  },
  {
   "cell_type": "code",
   "execution_count": 4,
   "id": "65c9d51d-2727-4334-9fa7-0f7c510e56aa",
   "metadata": {},
   "outputs": [
    {
     "ename": "SyntaxError",
     "evalue": "invalid syntax (3329873091.py, line 1)",
     "output_type": "error",
     "traceback": [
      "\u001b[0;36m  File \u001b[0;32m\"/var/folders/ml/3qpj1_6x4fj_gcl3ztrny2700000gn/T/ipykernel_12439/3329873091.py\"\u001b[0;36m, line \u001b[0;32m1\u001b[0m\n\u001b[0;31m    def parse_page(url)\u001b[0m\n\u001b[0m                       ^\u001b[0m\n\u001b[0;31mSyntaxError\u001b[0m\u001b[0;31m:\u001b[0m invalid syntax\n"
     ]
    }
   ],
   "source": [
    "def parse_page(url):\n",
    "    page = requests.get(url)\n",
    "    content = page.text\n",
    "    parsed_content = BeautifulSoup(content, 'html.parser')\n",
    "    return parsed_content"
   ]
  },
  {
   "cell_type": "code",
   "execution_count": 111,
   "id": "aa5fc229-eb31-4533-8681-c88211e2fa95",
   "metadata": {},
   "outputs": [],
   "source": [
    "def parse_info(parsed_content):\n",
    "    calendar = parsed.find(\"div\", {\"id\": \"calendar\"})\n",
    "    info = parsed.find(\"div\", {\"class\": \"info\"})\n",
    "    sowing = info.find(\"li\", {\"class\": \"sowing\"}).text.strip()\n",
    "    spacing = info.find(\"li\", {\"class\": \"spacing\"}).text.strip()\n",
    "    harvest = info.find(\"li\", {\"class\": \"harvest\"}).text.strip()\n",
    "    companion = info.find(\"li\", {\"class\": \"companion\"})\n",
    "    if companion:\n",
    "        companion = companion.text.strip()\n",
    "    avoid = info.find(\"li\", {\"class\": \"avoid\"})\n",
    "    if avoid:\n",
    "        avoid = avoid.text.strip()\n",
    "    details = parsed.find(\"div\", {\"id\": \"details\"}).text.strip()\n",
    "    row = dict()\n",
    "    row[\"scrape_date\"] = datetime.today()\n",
    "    row[\"calendar\"] = calendar\n",
    "    row[\"sowing\"] = sowing\n",
    "    row[\"spacing\"] = spacing\n",
    "    row[\"harvest\"] = harvest\n",
    "    row[\"companion\"] = companion\n",
    "    row[\"avoid\"] = avoid\n",
    "    row[\"details\"] = details\n",
    "    return row"
   ]
  },
  {
   "cell_type": "code",
   "execution_count": 126,
   "id": "681ee1b1-9ffb-4485-b463-268a3ca67277",
   "metadata": {},
   "outputs": [
    {
     "ename": "SyntaxError",
     "evalue": "EOL while scanning string literal (Temp/ipykernel_24740/1787850026.py, line 5)",
     "output_type": "error",
     "traceback": [
      "\u001b[1;36m  File \u001b[1;32m\"C:\\Users\\Alan\\AppData\\Local\\Temp/ipykernel_24740/1787850026.py\"\u001b[1;36m, line \u001b[1;32m5\u001b[0m\n\u001b[1;33m    fieldnames = [\"scrape_date\", \"calendar\", \"]\u001b[0m\n\u001b[1;37m                                               ^\u001b[0m\n\u001b[1;31mSyntaxError\u001b[0m\u001b[1;31m:\u001b[0m EOL while scanning string literal\n"
     ]
    }
   ],
   "source": [
    "def write_to_csv(data, filepath = 'data.csv'):\n",
    "    \"\"\"\n",
    "    Writes to the csv file\n",
    "    \"\"\"\n",
    "    fieldnames = [\"scrape_date\", \"calendar\", \"sowing\", \"spacing\", \"harvest\", \"companion\", \"avoid\", \"details\"]\n",
    "    with open(filepath, mode='a+') as df:\n",
    "        writer = csv.DictWriter(df, fieldnames = fieldnames, extrasaction='ignore', restval = None)\n",
    "        writer.writerow(data)"
   ]
  },
  {
   "cell_type": "code",
   "execution_count": 124,
   "id": "4dcbf1e2-8934-49ec-9f0e-43af4be13bf1",
   "metadata": {},
   "outputs": [],
   "source": [
    "row = dict()\n",
    "row[\"scrape_date\"] = datetime.today()\n",
    "row[\"calendar\"] = calendar\n",
    "row[\"sowing\"] = sowing\n",
    "row[\"spacing\"] = spacing\n",
    "row[\"harvest\"] = harvest\n",
    "row[\"companion\"] = companion\n",
    "row[\"avoid\"] = avoid\n",
    "row[\"details\"] = details"
   ]
  },
  {
   "cell_type": "code",
   "execution_count": 123,
   "id": "94dc874d-8bd3-4b5a-9fc4-157f559571ae",
   "metadata": {},
   "outputs": [
    {
     "name": "stdout",
     "output_type": "stream",
     "text": [
      " Sow in garden. \t\t\t\tSow seed at a depth approximately three times the diameter of the seed.\n",
      "\t\t\t\tBest planted at soil temperatures between 64°F and 86°F.\n",
      "\t\t\t\t (Show °C/cm) \n",
      "\n",
      "['sowing']\n",
      "Space plants:  20  inches apart \t\t\t\n",
      "['spacing']\n",
      "\n",
      "\t\t\t\tHarvest in 7-8 weeks.\n",
      "\t\t\t\n",
      "['harvest']\n",
      "Compatible with (can grow beside): Onions, corn, peppers, egg plant, tomatoes\n",
      "['companion']\n"
     ]
    }
   ],
   "source": [
    "for li in infos:\n",
    "    print(li.text)\n",
    "    print(li.attrs[\"class\"])"
   ]
  },
  {
   "cell_type": "code",
   "execution_count": 100,
   "id": "67ec4ab5-7615-44c1-97d1-66891365d555",
   "metadata": {},
   "outputs": [
    {
     "data": {
      "text/plain": [
       "<re.Match object; span=(14, 17), match=' 20'>"
      ]
     },
     "execution_count": 100,
     "metadata": {},
     "output_type": "execute_result"
    }
   ],
   "source": [
    "calendar = parsed.find(\"div\", {\"id\": \"calendar\"})\n",
    "info = parsed.find(\"div\", {\"class\": \"info\"})\n",
    "sowing = info.find(\"li\", {\"class\": \"sowing\"}).text\n",
    "deg_pattern = \"([\\d]+)°F.+([\\d]+)°F.\"\n",
    "min_soil_temp = int(re.search(deg_pattern, sowing).group(1))\n",
    "max_soil_temp = int(re.search(deg_pattern, sowing).group(2))\n",
    "spacing = info.find(\"li\", {\"class\": \"spacing\"}).text\n",
    "spacing_pattern = \"([\\d]+) - ([\\d]+)\"\n",
    "spacing_pattern2 = \"(\\d)+\"\n",
    "space_interval = False\n",
    "spacing1 = re.search(spacing_pattern, spacing)\n",
    "if spacing1:\n",
    "    space_interval = True\n",
    "    min_space = int(spacing1.group(1))\n",
    "    max_space = int(spacing1.group(2))\n",
    "else:\n",
    "    space_apart = re.search(spacing_pattern2, spacing).groups(1)\n",
    "harvest = info.find(\"li\", {\"class\": \"harvest\"}).text\n",
    "harvest_period = re.search(spacing_pattern, harvest)\n",
    "if harvest_period:\n",
    "    min_harvest = int(harvest_period.group(1))\n",
    "    max_harvest = int(harvest_period.group(2))\n",
    "companion = info.find(\"li\", {\"class\": \"companion\"})\n",
    "avoid = info.find(\"li\", {\"class\": \"avoid\"})\n",
    "if companion:\n",
    "    companion_text = companion.text\n",
    "if avoid:\n",
    "    avoid_text = avoid.text\n"
   ]
  },
  {
   "cell_type": "code",
   "execution_count": 91,
   "id": "7e064c4e-8306-4c5e-9c95-81a06c852960",
   "metadata": {
    "tags": []
   },
   "outputs": [
    {
     "name": "stdout",
     "output_type": "stream",
     "text": [
      "Space plants:  20  inches apart \t\t\t\n"
     ]
    },
    {
     "ename": "AttributeError",
     "evalue": "'NoneType' object has no attribute 'group'",
     "output_type": "error",
     "traceback": [
      "\u001b[1;31m---------------------------------------------------------------------------\u001b[0m",
      "\u001b[1;31mAttributeError\u001b[0m                            Traceback (most recent call last)",
      "\u001b[1;32m~\\AppData\\Local\\Temp/ipykernel_24740/713639845.py\u001b[0m in \u001b[0;36m<module>\u001b[1;34m\u001b[0m\n\u001b[0;32m      1\u001b[0m \u001b[0minfo\u001b[0m \u001b[1;33m=\u001b[0m \u001b[0mparsed\u001b[0m\u001b[1;33m.\u001b[0m\u001b[0mfind\u001b[0m\u001b[1;33m(\u001b[0m\u001b[1;34m\"div\"\u001b[0m\u001b[1;33m,\u001b[0m \u001b[1;33m{\u001b[0m\u001b[1;34m\"class\"\u001b[0m\u001b[1;33m:\u001b[0m \u001b[1;34m\"info\"\u001b[0m\u001b[1;33m}\u001b[0m\u001b[1;33m)\u001b[0m\u001b[1;33m\u001b[0m\u001b[1;33m\u001b[0m\u001b[0m\n\u001b[0;32m      2\u001b[0m \u001b[0mspacing_pattern\u001b[0m \u001b[1;33m=\u001b[0m \u001b[1;34m\"([\\d]+) - ([\\d]+)\"\u001b[0m\u001b[1;33m\u001b[0m\u001b[1;33m\u001b[0m\u001b[0m\n\u001b[1;32m----> 3\u001b[1;33m \u001b[0mfind_interval\u001b[0m\u001b[1;33m(\u001b[0m\u001b[0minfo\u001b[0m\u001b[1;33m,\u001b[0m \u001b[1;34m\"spacing\"\u001b[0m\u001b[1;33m,\u001b[0m \u001b[0mspacing_pattern\u001b[0m\u001b[1;33m)\u001b[0m\u001b[1;33m\u001b[0m\u001b[1;33m\u001b[0m\u001b[0m\n\u001b[0m",
      "\u001b[1;32m~\\AppData\\Local\\Temp/ipykernel_24740/2207471806.py\u001b[0m in \u001b[0;36mfind_interval\u001b[1;34m(text, class_name, pattern)\u001b[0m\n\u001b[0;32m      2\u001b[0m     \u001b[0msearch_area\u001b[0m \u001b[1;33m=\u001b[0m \u001b[0mtext\u001b[0m\u001b[1;33m.\u001b[0m\u001b[0mfind\u001b[0m\u001b[1;33m(\u001b[0m\u001b[1;34m\"li\"\u001b[0m\u001b[1;33m,\u001b[0m \u001b[1;33m{\u001b[0m\u001b[1;34m\"class\"\u001b[0m\u001b[1;33m:\u001b[0m \u001b[0mclass_name\u001b[0m\u001b[1;33m}\u001b[0m\u001b[1;33m)\u001b[0m\u001b[1;33m.\u001b[0m\u001b[0mtext\u001b[0m\u001b[1;33m\u001b[0m\u001b[1;33m\u001b[0m\u001b[0m\n\u001b[0;32m      3\u001b[0m     \u001b[0mprint\u001b[0m\u001b[1;33m(\u001b[0m\u001b[0msearch_area\u001b[0m\u001b[1;33m)\u001b[0m\u001b[1;33m\u001b[0m\u001b[1;33m\u001b[0m\u001b[0m\n\u001b[1;32m----> 4\u001b[1;33m     \u001b[0mmin_val\u001b[0m \u001b[1;33m=\u001b[0m \u001b[0mint\u001b[0m\u001b[1;33m(\u001b[0m\u001b[0mre\u001b[0m\u001b[1;33m.\u001b[0m\u001b[0msearch\u001b[0m\u001b[1;33m(\u001b[0m\u001b[0mpattern\u001b[0m\u001b[1;33m,\u001b[0m \u001b[0msearch_area\u001b[0m\u001b[1;33m)\u001b[0m\u001b[1;33m.\u001b[0m\u001b[0mgroup\u001b[0m\u001b[1;33m(\u001b[0m\u001b[1;36m1\u001b[0m\u001b[1;33m)\u001b[0m\u001b[1;33m)\u001b[0m\u001b[1;33m\u001b[0m\u001b[1;33m\u001b[0m\u001b[0m\n\u001b[0m\u001b[0;32m      5\u001b[0m     \u001b[0mmax_val\u001b[0m \u001b[1;33m=\u001b[0m \u001b[0mint\u001b[0m\u001b[1;33m(\u001b[0m\u001b[0mre\u001b[0m\u001b[1;33m.\u001b[0m\u001b[0msearch\u001b[0m\u001b[1;33m(\u001b[0m\u001b[0mpattern\u001b[0m\u001b[1;33m,\u001b[0m \u001b[0msearch_area\u001b[0m\u001b[1;33m)\u001b[0m\u001b[1;33m.\u001b[0m\u001b[0mgroup\u001b[0m\u001b[1;33m(\u001b[0m\u001b[1;36m2\u001b[0m\u001b[1;33m)\u001b[0m\u001b[1;33m)\u001b[0m\u001b[1;33m\u001b[0m\u001b[1;33m\u001b[0m\u001b[0m\n\u001b[0;32m      6\u001b[0m     \u001b[1;32mreturn\u001b[0m \u001b[1;33m(\u001b[0m\u001b[0mmin_val\u001b[0m\u001b[1;33m,\u001b[0m \u001b[0mmax_val\u001b[0m\u001b[1;33m)\u001b[0m\u001b[1;33m\u001b[0m\u001b[1;33m\u001b[0m\u001b[0m\n",
      "\u001b[1;31mAttributeError\u001b[0m: 'NoneType' object has no attribute 'group'"
     ]
    }
   ],
   "source": [
    "info = parsed.find(\"div\", {\"class\": \"info\"})\n",
    "spacing_pattern = \"([\\d]+) - ([\\d]+)\"\n",
    "find_interval(info, \"spacing\", spacing_pattern)"
   ]
  },
  {
   "cell_type": "code",
   "execution_count": 49,
   "id": "f5fb40fc-5457-4f16-8603-56b0a5103d7e",
   "metadata": {},
   "outputs": [
    {
     "data": {
      "text/plain": [
       "'<div class=\"info\">\\n<ul>\\n<li class=\"sowing\"> Sow in garden. \\t\\t\\t\\tSow seed at a depth approximately three times the diameter of the seed.\\n\\t\\t\\t\\tBest planted at soil temperatures between 64°F and 86°F.\\n\\t\\t\\t\\t<span class=\"scale noprint\"> <a href=\"https://gardenate.com/plant/Amaranth?format=m\">(Show °C/cm)</a> </span>\\n</li>\\n<li class=\"spacing\">Space plants:  20  inches apart \\t\\t\\t</li>\\n<li class=\"harvest\">\\n\\t\\t\\t\\tHarvest in 7-8 weeks.\\n\\t\\t\\t</li> <li class=\"companion\">Compatible with (can grow beside): Onions, corn, peppers, egg plant, tomatoes</li>\\n</ul>\\n</div>'"
      ]
     },
     "execution_count": 49,
     "metadata": {},
     "output_type": "execute_result"
    }
   ],
   "source": [
    "info2"
   ]
  },
  {
   "cell_type": "code",
   "execution_count": null,
   "id": "f927636a-7408-469a-8021-a9a02dc532d8",
   "metadata": {},
   "outputs": [],
   "source": [
    "def scrape_post(post):\n",
    "    row = dict()\n",
    "    row.update(post_info)\n",
    "    description = scrape_desc(post)\n",
    "    row.update(description)\n",
    "    info = scrape_listing_info(post)\n",
    "    row.update(info)\n",
    "    features = scrape_features(post)\n",
    "    row.update(features)\n",
    "    row['scrape_date'] = datetime.today()\n",
    "    return row\n",
    "\n",
    "def write_to_csv(post, filepath = 'craigslist.csv'):\n",
    "    \"\"\"\n",
    "    Writes to the csv file\n",
    "    \"\"\"\n",
    "    with open(filepath, mode='a+') as df:\n",
    "        writer = csv.DictWriter(df, fieldnames = fieldnames, extrasaction='ignore', restval = None)\n",
    "        parsed_data = scrape_post(post)\n",
    "        if parsed_data is not None:\n",
    "            writer.writerow(parsed_data)"
   ]
  },
  {
   "cell_type": "code",
   "execution_count": null,
   "id": "d87a7086-b816-4dff-94e7-2b1a31c9d532",
   "metadata": {},
   "outputs": [],
   "source": [
    "remove_lst = {\n",
    "    'any herbs that like damp',\n",
    "    'will happily grow in a flower border but tends to sprawl over other plants.',\n",
    "    'not applicable as celery needs to be close together to encourage blanching.',\n",
    "    \"does better if alone.\",\n",
    "    'etc)',\n",
    "    \"''\",\n",
    "    'will happily grow in a flower border'\n",
    "}"
   ]
  },
  {
   "cell_type": "code",
   "execution_count": null,
   "id": "eaf74450-2b33-483e-abb6-669f219caa67",
   "metadata": {},
   "outputs": [],
   "source": [
    "decoder = {\n",
    "    \"shady areas - mint\": [\"mint\"],\n",
    "    'tagates minuta (wild marigold)': [\"tagates minuta\", \"wild marigold\"],\n",
    "    \"strawberry and cucumbers\": [\"strawberry\", 'cucumbers'],\n",
    "    \"silverbeet (swiss chard)\": [\"silverbeet\", \"swiss chard\"],\n",
    "    \"zucchini/squash. deters pests from many plants.\": [\"zuchini\", \"squash\"],\n",
    "    \"peas. strawberries\": [\"peas\", \"strawberries\"],\n",
    "    'dwarf (bush) beans': [\"dwarf beans\", \"bush beans\"],\n",
    "    'aromatic herbs (sage', 'dill', 'chamomile', 'oregano)': [\"sage\", \"dill\", \"chamomile\", \"oregano\"],\n",
    "    'aromatic herbs (sage', 'dill', 'chamomile', 'thyme)': [\"sage\", \"dill\", \"chamomile\", \"thyme\"],\n",
    "    \"egg plant (aubergine)\": [\"eggplant\", \"aubergine\"],\n",
    "    'aromatic herbs (sage', 'dill', 'chamomile)': [\"sage\", \"dill\", \"chamomile\"],\n",
    "    \"aubergine (eggplant) and capsicum (peppers)\": [\"aubergine\", \"eggplant\", \"capsicum\", \"peppers\"],\n",
    "    \"peppers (capsicum\": [\"peppers\", \"capsicum\"],\n",
    "    \"chili)\": [\"chili\"],\n",
    "    \"eggplant (aubergine)\": [\"eggplant\", \"aubergine\"],\n",
    "    'aromatic herbs (sage': [\"sage\"],\n",
    "    \"coriander)\": [\"corinander\"],\n",
    "    \"swiss chard (silverbeet)\": [\"swiss chard\", \"silverbeet\"],\n",
    "    \"brassicas (cabbage\": [\"cabbage\"],\n",
    "    \"nasturtium and hyssop\": [\"nasturtiium\", \"hyssop\"],\n",
    "    \"cabbage and carrots\": [\"cabbage\", \"carrot\"],\n",
    "    \"brassica sp. (cabbage\": [\"cabbage\"],\n",
    "    \"allium sp. (onion\": [\"onion\"],\n",
    "    \"chives)\": [\"chives\"],\n",
    "    \"broad beans (fava)\": [\"broad beans\", \"fava\"],\n",
    "    \"chilis)\": [\"chilis\"],\n",
    "    \"dry-environment herbs (oregano\": [\"oregano\"],\n",
    "    \"sage)\": [\"sage\"]\n",
    "}"
   ]
  }
 ],
 "metadata": {
  "kernelspec": {
   "display_name": "Python 3 (ipykernel)",
   "language": "python",
   "name": "python3"
  },
  "language_info": {
   "codemirror_mode": {
    "name": "ipython",
    "version": 3
   },
   "file_extension": ".py",
   "mimetype": "text/x-python",
   "name": "python",
   "nbconvert_exporter": "python",
   "pygments_lexer": "ipython3",
   "version": "3.8.12"
  }
 },
 "nbformat": 4,
 "nbformat_minor": 5
}
